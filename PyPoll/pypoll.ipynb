{
 "cells": [
  {
   "cell_type": "code",
   "execution_count": 59,
   "id": "8f2f10b2-562e-479a-a1ed-26cdeb9fa134",
   "metadata": {},
   "outputs": [
    {
     "name": "stdout",
     "output_type": "stream",
     "text": [
      "Total Votes: 369711\n",
      "\n",
      "Charles Casper Stockham: 85213 votes\n",
      "Diana DeGette: 272892 votes\n",
      "Raymon Anthony Doane: 11606 votes\n"
     ]
    }
   ],
   "source": [
    "import csv\n",
    "import os\n",
    "\n",
    "# variables\n",
    "vote_count = 0\n",
    "candidate_votes = {}\n",
    "\n",
    "# Open CSV file\n",
    "file_path = os.path.join(\".\", \"Resources\", \"election_data.csv\")\n",
    "\n",
    "# Read CSV file\n",
    "with open(file_path, 'r') as file:\n",
    "    reader = csv.reader(file)\n",
    "    header = next(reader)\n",
    "    \n",
    "    for row in reader:\n",
    "        vote_count += 1\n",
    "        candidate = row[2]  # Assuming candidate names are in the third column\n",
    "        if candidate in candidate_votes:\n",
    "            candidate_votes[candidate] += 1\n",
    "        else:\n",
    "            candidate_votes[candidate] = 1\n",
    "\n",
    "print(f\"Total Votes: {vote_count}\\n\")\n",
    "# Print the total votes for each candidate\n",
    "for candidate, votes in candidate_votes.items():\n",
    "    print(\n",
    "        f\"{candidate}: {votes} votes\"\n",
    "    )"
   ]
  },
  {
   "cell_type": "code",
   "execution_count": null,
   "id": "3d73aaee-9f61-4295-8f53-41ffb2bd1f54",
   "metadata": {},
   "outputs": [],
   "source": []
  }
 ],
 "metadata": {
  "kernelspec": {
   "display_name": "Python 3 (ipykernel)",
   "language": "python",
   "name": "python3"
  },
  "language_info": {
   "codemirror_mode": {
    "name": "ipython",
    "version": 3
   },
   "file_extension": ".py",
   "mimetype": "text/x-python",
   "name": "python",
   "nbconvert_exporter": "python",
   "pygments_lexer": "ipython3",
   "version": "3.11.7"
  }
 },
 "nbformat": 4,
 "nbformat_minor": 5
}
