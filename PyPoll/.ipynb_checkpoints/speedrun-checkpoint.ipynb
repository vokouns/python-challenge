{
 "cells": [
  {
   "cell_type": "code",
   "execution_count": 85,
   "id": "c684b13a-e491-41f2-ac74-1fad5f005d8b",
   "metadata": {},
   "outputs": [
    {
     "name": "stdout",
     "output_type": "stream",
     "text": [
      "Election Results\n",
      "-------------------------\n",
      "Total Votes: 369711\n",
      "-------------------------\n"
     ]
    },
    {
     "ename": "NameError",
     "evalue": "name 'winning_count' is not defined",
     "output_type": "error",
     "traceback": [
      "\u001b[1;31m---------------------------------------------------------------------------\u001b[0m",
      "\u001b[1;31mNameError\u001b[0m                                 Traceback (most recent call last)",
      "Cell \u001b[1;32mIn[85], line 48\u001b[0m\n\u001b[0;32m     46\u001b[0m votes \u001b[38;5;241m=\u001b[39m candidate_votes[candidate]\n\u001b[0;32m     47\u001b[0m vote_percent \u001b[38;5;241m=\u001b[39m \u001b[38;5;28mfloat\u001b[39m(votes) \u001b[38;5;241m/\u001b[39m \u001b[38;5;28mfloat\u001b[39m(vote_counter) \u001b[38;5;241m*\u001b[39m \u001b[38;5;241m100\u001b[39m\n\u001b[1;32m---> 48\u001b[0m \u001b[38;5;28;01mif\u001b[39;00m (votes \u001b[38;5;241m>\u001b[39m winning_count):\n\u001b[0;32m     49\u001b[0m     winning_count \u001b[38;5;241m=\u001b[39m votes\n\u001b[0;32m     50\u001b[0m     winning_candidate \u001b[38;5;241m=\u001b[39m candidate\n",
      "\u001b[1;31mNameError\u001b[0m: name 'winning_count' is not defined"
     ]
    }
   ],
   "source": [
    "import csv\n",
    "import os\n",
    "\n",
    "raw_data = os.path.join(\".\", \"Resources\", \"election_data.csv\")\n",
    "save_file = os.path.join(\".\", \"analysis\", \"election_results.txt\")\n",
    "\n",
    "# total counter\n",
    "vote_counter = 0\n",
    "\n",
    "# candidate count and vote count\n",
    "candidate_votes = {}\n",
    "candidates = []\n",
    "\n",
    "with open(raw_data) as election_data:\n",
    "    reader = csv.reader(election_data)\n",
    "    header = next(reader)\n",
    "\n",
    "    for row in reader:\n",
    "        vote_counter += 1\n",
    "\n",
    "        candidate_name = row[2]\n",
    "        \n",
    "        if candidate_name not in candidates:\n",
    "            candidates.append(candidate_name) \n",
    "\n",
    "            candidate_votes[candidate_name] = 0\n",
    "\n",
    "        candidate_votes[candidate_name] += 1\n",
    "\n",
    "\n",
    "\n",
    "\n",
    "\n",
    "with open(save_file, \"w\") as txt_file:\n",
    "    outcome = (\n",
    "        f\"Election Results\\n\"\n",
    "        f\"-------------------------\\n\"\n",
    "        f\"Total Votes: {vote_counter}\\n\"\n",
    "        f\"-------------------------\"\n",
    "    )\n",
    "    print(outcome)\n",
    "\n",
    "    # txt_file.write(election_results)\n",
    "\n",
    "    for candidate in candidate_votes:\n",
    "        votes = candidate_votes[candidate]\n",
    "        vote_percent = float(votes) / float(vote_counter) * 100\n",
    "        if (votes > winning_count):\n",
    "            winning_count = votes\n",
    "            winning_candidate = candidate\n",
    "\n",
    "        voter_output = f\"{candidate}: {vote_percentage}% ({votes})\\n\"\n",
    "        print(votes)\n",
    "        print(vote_percent)\n",
    "        print(voter_output)\n",
    "\n",
    "# Election Results\n",
    "# -------------------------\n",
    "# Total Votes: 369711\n",
    "# -------------------------\n",
    "# Charles Casper Stockham: 23.049% (85213)\n",
    "# Diana DeGette: 73.812% (272892)\n",
    "# Raymon Anthony Doane: 3.139% (11606)\n",
    "# -------------------------\n",
    "# Winner: Diana DeGette\n",
    "# -------------------------"
   ]
  },
  {
   "cell_type": "code",
   "execution_count": null,
   "id": "9081de3b-0b41-4c05-ac1c-f297a0ff92b8",
   "metadata": {},
   "outputs": [],
   "source": []
  }
 ],
 "metadata": {
  "kernelspec": {
   "display_name": "Python 3 (ipykernel)",
   "language": "python",
   "name": "python3"
  },
  "language_info": {
   "codemirror_mode": {
    "name": "ipython",
    "version": 3
   },
   "file_extension": ".py",
   "mimetype": "text/x-python",
   "name": "python",
   "nbconvert_exporter": "python",
   "pygments_lexer": "ipython3",
   "version": "3.11.7"
  }
 },
 "nbformat": 4,
 "nbformat_minor": 5
}
