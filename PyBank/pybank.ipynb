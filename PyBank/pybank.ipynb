{
 "cells": [
  {
   "cell_type": "code",
   "execution_count": 106,
   "id": "a9db8bd0-09a9-4929-bf29-f8aed7500a23",
   "metadata": {},
   "outputs": [
    {
     "name": "stdout",
     "output_type": "stream",
     "text": [
      "36254532\n",
      "Data Analysis:\n",
      "--------------------------------\n",
      "Total Months:    85\n",
      "Total Profit:    22564198\n",
      "\n"
     ]
    }
   ],
   "source": [
    "# importing libraries needed\n",
    "import csv\n",
    "import os\n",
    "# create variables\n",
    "month_count = 0  # totalling months\n",
    "net_calc = 0  # profittracker\n",
    "negative_value = 0  # total negative amount\n",
    "positive_value = 0  # total positive amount\n",
    "\n",
    "\n",
    "# open the needed csv file\n",
    "raw_data = os.path.join(\".\", \"Resources\", \"budget_data.csv\")\n",
    "\n",
    "# create text file for output\n",
    "data_analysis = os.path.join(\".\", \"analysis\", \"data_analysis.txt\")\n",
    "\n",
    "# reading csv file\n",
    "with open (raw_data) as financial_data:\n",
    "    reader = csv.reader(financial_data)\n",
    "\n",
    "    # remove header\n",
    "    header = next(reader)\n",
    "\n",
    "    first_row = next(reader)\n",
    "    net_calc += int(first_row[1])\n",
    "\n",
    "    \n",
    "    # er = each row\n",
    "    for er in reader:\n",
    "        # tracks number of months\n",
    "        month_count += 1 \n",
    "        # tracks net change\n",
    "        net_calc = net_calc + int(er[1])\n",
    "        # calc greatest increase\n",
    "        if int(er[1]) > 0:\n",
    "            positive_value += int(er[1])\n",
    "            \n",
    "        # calc greatest decrease\n",
    "\n",
    "print(int(positive_value))\n",
    "\n",
    "output = (\n",
    "    f\"Data Analysis:\\n\"\n",
    "    f\"--------------------------------\\n\"\n",
    "    f\"Total Months:    {month_count}\\n\"\n",
    "    f\"Total Profit:    {net_calc}\\n\"\n",
    ")\n",
    "\n",
    "\n",
    "\n",
    "\n",
    "print(output)     "
   ]
  },
  {
   "cell_type": "code",
   "execution_count": null,
   "id": "e0ddd3ca-1941-46f1-8e77-15cff5b176ad",
   "metadata": {},
   "outputs": [],
   "source": []
  }
 ],
 "metadata": {
  "kernelspec": {
   "display_name": "Python 3 (ipykernel)",
   "language": "python",
   "name": "python3"
  },
  "language_info": {
   "codemirror_mode": {
    "name": "ipython",
    "version": 3
   },
   "file_extension": ".py",
   "mimetype": "text/x-python",
   "name": "python",
   "nbconvert_exporter": "python",
   "pygments_lexer": "ipython3",
   "version": "3.11.7"
  }
 },
 "nbformat": 4,
 "nbformat_minor": 5
}
